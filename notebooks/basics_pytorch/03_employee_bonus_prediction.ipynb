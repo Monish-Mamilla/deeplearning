{
 "cells": [
  {
   "cell_type": "code",
   "execution_count": 14,
   "id": "4f0fcd0e",
   "metadata": {},
   "outputs": [],
   "source": [
    "import torch\n",
    "import torch.nn as nn \n",
    "import torch.optim as optim\n",
    "import pandas as pd"
   ]
  },
  {
   "cell_type": "code",
   "execution_count": 15,
   "id": "43fb9c28",
   "metadata": {},
   "outputs": [
    {
     "data": {
      "text/html": [
       "<div>\n",
       "<style scoped>\n",
       "    .dataframe tbody tr th:only-of-type {\n",
       "        vertical-align: middle;\n",
       "    }\n",
       "\n",
       "    .dataframe tbody tr th {\n",
       "        vertical-align: top;\n",
       "    }\n",
       "\n",
       "    .dataframe thead th {\n",
       "        text-align: right;\n",
       "    }\n",
       "</style>\n",
       "<table border=\"1\" class=\"dataframe\">\n",
       "  <thead>\n",
       "    <tr style=\"text-align: right;\">\n",
       "      <th></th>\n",
       "      <th>employee_id</th>\n",
       "      <th>performance</th>\n",
       "      <th>years_of_experience</th>\n",
       "      <th>projects_completed</th>\n",
       "      <th>bonus</th>\n",
       "    </tr>\n",
       "  </thead>\n",
       "  <tbody>\n",
       "    <tr>\n",
       "      <th>0</th>\n",
       "      <td>EMP_001</td>\n",
       "      <td>7</td>\n",
       "      <td>1</td>\n",
       "      <td>3</td>\n",
       "      <td>116</td>\n",
       "    </tr>\n",
       "    <tr>\n",
       "      <th>1</th>\n",
       "      <td>EMP_002</td>\n",
       "      <td>4</td>\n",
       "      <td>8</td>\n",
       "      <td>10</td>\n",
       "      <td>136</td>\n",
       "    </tr>\n",
       "    <tr>\n",
       "      <th>2</th>\n",
       "      <td>EMP_003</td>\n",
       "      <td>8</td>\n",
       "      <td>4</td>\n",
       "      <td>5</td>\n",
       "      <td>150</td>\n",
       "    </tr>\n",
       "    <tr>\n",
       "      <th>3</th>\n",
       "      <td>EMP_004</td>\n",
       "      <td>5</td>\n",
       "      <td>4</td>\n",
       "      <td>7</td>\n",
       "      <td>118</td>\n",
       "    </tr>\n",
       "    <tr>\n",
       "      <th>4</th>\n",
       "      <td>EMP_005</td>\n",
       "      <td>7</td>\n",
       "      <td>5</td>\n",
       "      <td>6</td>\n",
       "      <td>146</td>\n",
       "    </tr>\n",
       "  </tbody>\n",
       "</table>\n",
       "</div>"
      ],
      "text/plain": [
       "  employee_id  performance  years_of_experience  projects_completed  bonus\n",
       "0     EMP_001            7                    1                   3    116\n",
       "1     EMP_002            4                    8                  10    136\n",
       "2     EMP_003            8                    4                   5    150\n",
       "3     EMP_004            5                    4                   7    118\n",
       "4     EMP_005            7                    5                   6    146"
      ]
     },
     "execution_count": 15,
     "metadata": {},
     "output_type": "execute_result"
    }
   ],
   "source": [
    "df = pd.read_csv(\"bonus.csv\")\n",
    "df.head()"
   ]
  },
  {
   "cell_type": "code",
   "execution_count": 16,
   "id": "1ae17f0b",
   "metadata": {},
   "outputs": [
    {
     "data": {
      "text/plain": [
       "(1000, 5)"
      ]
     },
     "execution_count": 16,
     "metadata": {},
     "output_type": "execute_result"
    }
   ],
   "source": [
    "df.shape"
   ]
  },
  {
   "cell_type": "code",
   "execution_count": 17,
   "id": "0444e985",
   "metadata": {},
   "outputs": [],
   "source": [
    "from sklearn.model_selection import train_test_split\n",
    "\n",
    "X = df[['performance','years_of_experience','projects_completed']].values\n",
    "y = df[['bonus']].values\n",
    "\n",
    "X_train, X_test, y_train, y_test = train_test_split(X,y,test_size=0.2,random_state=40)"
   ]
  },
  {
   "cell_type": "code",
   "execution_count": 18,
   "id": "4d9061f5",
   "metadata": {},
   "outputs": [
    {
     "data": {
      "text/plain": [
       "(800, 3)"
      ]
     },
     "execution_count": 18,
     "metadata": {},
     "output_type": "execute_result"
    }
   ],
   "source": [
    "X_train.shape"
   ]
  },
  {
   "cell_type": "code",
   "execution_count": 19,
   "id": "f76926d1",
   "metadata": {},
   "outputs": [
    {
     "data": {
      "text/plain": [
       "(200, 3)"
      ]
     },
     "execution_count": 19,
     "metadata": {},
     "output_type": "execute_result"
    }
   ],
   "source": [
    "X_test.shape"
   ]
  },
  {
   "cell_type": "code",
   "execution_count": 20,
   "id": "b5772587",
   "metadata": {},
   "outputs": [],
   "source": [
    "X_train_tensor = torch.tensor(X_train,dtype=torch.float32)\n",
    "y_train_tensor = torch.tensor(y_train,dtype=torch.float32)\n",
    "X_test_tensor = torch.tensor(X_test,dtype=torch.float32)\n",
    "y_test_tensor = torch.tensor(y_test,dtype=torch.float32)"
   ]
  },
  {
   "cell_type": "code",
   "execution_count": 21,
   "id": "93054921",
   "metadata": {},
   "outputs": [],
   "source": [
    "class BonusPredictor(nn.Module):\n",
    "    def __init__(self):\n",
    "        super().__init__()\n",
    "        self.network = nn.Sequential(\n",
    "            nn.Linear(3,1) # 3 input features, 1 output neuron\n",
    "        )\n",
    "    \n",
    "    def forward(self, x):\n",
    "        return self.network(x)\n",
    "\n",
    "\n"
   ]
  },
  {
   "cell_type": "code",
   "execution_count": 26,
   "id": "9a9bf3b7",
   "metadata": {},
   "outputs": [],
   "source": [
    "model = BonusPredictor()\n",
    "criterion = nn.MSELoss()\n",
    "optimizer = optim.SGD(model.parameters(), lr = 0.005)"
   ]
  },
  {
   "cell_type": "code",
   "execution_count": 27,
   "id": "6e88ad91",
   "metadata": {},
   "outputs": [
    {
     "name": "stdout",
     "output_type": "stream",
     "text": [
      "Epoch [100/99], loss: 20.962872\n",
      "Epoch [200/199], loss: 18.330046\n",
      "Epoch [300/299], loss: 16.111219\n",
      "Epoch [400/399], loss: 14.189722\n",
      "Epoch [500/499], loss: 12.507271\n",
      "Epoch [600/599], loss: 11.027678\n",
      "Epoch [700/699], loss: 9.724285\n",
      "Epoch [800/799], loss: 8.575357\n",
      "Epoch [900/899], loss: 7.562288\n",
      "Epoch [1000/999], loss: 6.668959\n",
      "Epoch [1100/1099], loss: 5.881165\n",
      "Epoch [1200/1199], loss: 5.186441\n",
      "Epoch [1300/1299], loss: 4.573772\n",
      "Epoch [1400/1399], loss: 4.033497\n",
      "Epoch [1500/1499], loss: 3.557019\n",
      "Epoch [1600/1599], loss: 3.136844\n",
      "Epoch [1700/1699], loss: 2.766297\n",
      "Epoch [1800/1799], loss: 2.439522\n",
      "Epoch [1900/1899], loss: 2.151348\n",
      "Epoch [2000/1999], loss: 1.897214\n",
      "Epoch [2100/2099], loss: 1.673104\n",
      "Epoch [2200/2199], loss: 1.475466\n",
      "Epoch [2300/2299], loss: 1.301181\n",
      "Epoch [2400/2399], loss: 1.147474\n",
      "Epoch [2500/2499], loss: 1.011926\n",
      "Epoch [2600/2599], loss: 0.892391\n",
      "Epoch [2700/2699], loss: 0.786974\n",
      "Epoch [2800/2799], loss: 0.694012\n",
      "Epoch [2900/2899], loss: 0.612030\n",
      "Epoch [3000/2999], loss: 0.539732\n",
      "Epoch [3100/3099], loss: 0.475977\n",
      "Epoch [3200/3199], loss: 0.419751\n",
      "Epoch [3300/3299], loss: 0.370169\n",
      "Epoch [3400/3399], loss: 0.326442\n",
      "Epoch [3500/3499], loss: 0.287881\n",
      "Epoch [3600/3599], loss: 0.253875\n",
      "Epoch [3700/3699], loss: 0.223885\n",
      "Epoch [3800/3799], loss: 0.197438\n",
      "Epoch [3900/3899], loss: 0.174115\n",
      "Epoch [4000/3999], loss: 0.153549\n",
      "Epoch [4100/4099], loss: 0.135409\n",
      "Epoch [4200/4199], loss: 0.119415\n",
      "Epoch [4300/4299], loss: 0.105308\n",
      "Epoch [4400/4399], loss: 0.092870\n",
      "Epoch [4500/4499], loss: 0.081899\n",
      "Epoch [4600/4599], loss: 0.072226\n",
      "Epoch [4700/4699], loss: 0.063693\n",
      "Epoch [4800/4799], loss: 0.056169\n",
      "Epoch [4900/4899], loss: 0.049534\n",
      "Epoch [5000/4999], loss: 0.043683\n"
     ]
    }
   ],
   "source": [
    "epochs = 5000\n",
    "\n",
    "for epoch in range(epochs) :\n",
    "    # 1. Forward pass\n",
    "    predictions = model(X_train_tensor)\n",
    "    loss = criterion(predictions,y_train_tensor)\n",
    "    # 2. Backward pass\n",
    "    optimizer.zero_grad()\n",
    "    loss.backward()\n",
    "    # Update Weights\n",
    "    optimizer.step()\n",
    "\n",
    "    #Print Loss every 100 epochs\n",
    "\n",
    "    if(epoch+1) % 100 == 0:\n",
    "        print(f\"Epoch [{epoch +1}/{epoch}], loss: {loss.item():2f}\")\n"
   ]
  },
  {
   "cell_type": "code",
   "execution_count": 29,
   "id": "ba36987a",
   "metadata": {},
   "outputs": [
    {
     "name": "stdout",
     "output_type": "stream",
     "text": [
      "Test Loss: 0.05\n"
     ]
    }
   ],
   "source": [
    "model.eval()\n",
    "\n",
    "with torch.no_grad():\n",
    "    test_predictions = model(X_test_tensor)\n",
    "    test_loss = criterion(test_predictions,y_test_tensor)\n",
    "\n",
    "print(f\"Test Loss: {test_loss.item():0.02f}\")"
   ]
  },
  {
   "cell_type": "code",
   "execution_count": 30,
   "id": "cf8dadb8",
   "metadata": {},
   "outputs": [
    {
     "data": {
      "text/plain": [
       "tensor([[ 3.,  5.,  8.],\n",
       "        [ 5.,  1.,  2.],\n",
       "        [ 4.,  9., 10.]])"
      ]
     },
     "execution_count": 30,
     "metadata": {},
     "output_type": "execute_result"
    }
   ],
   "source": [
    "X_test_tensor[:3]"
   ]
  },
  {
   "cell_type": "code",
   "execution_count": 31,
   "id": "244bbf8c",
   "metadata": {},
   "outputs": [
    {
     "data": {
      "text/plain": [
       "tensor([[102.0458],\n",
       "        [ 89.5998],\n",
       "        [141.8253]])"
      ]
     },
     "execution_count": 31,
     "metadata": {},
     "output_type": "execute_result"
    }
   ],
   "source": [
    "test_predictions[:3]"
   ]
  },
  {
   "cell_type": "code",
   "execution_count": 32,
   "id": "cbf9afce",
   "metadata": {},
   "outputs": [
    {
     "data": {
      "text/plain": [
       "tensor([[102.],\n",
       "        [ 90.],\n",
       "        [142.]])"
      ]
     },
     "execution_count": 32,
     "metadata": {},
     "output_type": "execute_result"
    }
   ],
   "source": [
    "y_test_tensor[:3]"
   ]
  },
  {
   "cell_type": "code",
   "execution_count": 34,
   "id": "c2db0605",
   "metadata": {},
   "outputs": [
    {
     "name": "stdout",
     "output_type": "stream",
     "text": [
      "Name: network.0.weight, Value: Parameter containing:\n",
      "tensor([[12.0339,  5.8404,  2.1921]], requires_grad=True)\n",
      "Name: network.0.bias, Value: Parameter containing:\n",
      "tensor([19.2058], requires_grad=True)\n"
     ]
    }
   ],
   "source": [
    "#w1, w2, w3, b\n",
    "for name, value in model.named_parameters():\n",
    "    print(f\"Name: {name}, Value: {value}\")"
   ]
  },
  {
   "cell_type": "code",
   "execution_count": null,
   "id": "e8b9f370",
   "metadata": {},
   "outputs": [],
   "source": []
  }
 ],
 "metadata": {
  "kernelspec": {
   "display_name": "venv",
   "language": "python",
   "name": "python3"
  },
  "language_info": {
   "codemirror_mode": {
    "name": "ipython",
    "version": 3
   },
   "file_extension": ".py",
   "mimetype": "text/x-python",
   "name": "python",
   "nbconvert_exporter": "python",
   "pygments_lexer": "ipython3",
   "version": "3.10.11"
  }
 },
 "nbformat": 4,
 "nbformat_minor": 5
}
