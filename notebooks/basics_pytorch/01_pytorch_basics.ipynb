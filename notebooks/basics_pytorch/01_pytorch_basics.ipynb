{
 "cells": [
  {
   "cell_type": "code",
   "execution_count": 1,
   "id": "4f0fcd0e",
   "metadata": {},
   "outputs": [],
   "source": [
    "import torch"
   ]
  },
  {
   "cell_type": "code",
   "execution_count": 3,
   "id": "43fb9c28",
   "metadata": {},
   "outputs": [
    {
     "data": {
      "text/plain": [
       "tensor(9)"
      ]
     },
     "execution_count": 3,
     "metadata": {},
     "output_type": "execute_result"
    }
   ],
   "source": [
    "torch.tensor(9)"
   ]
  },
  {
   "cell_type": "code",
   "execution_count": 4,
   "id": "5da84a5b",
   "metadata": {},
   "outputs": [
    {
     "data": {
      "text/plain": [
       "tensor([100, 120,  90,  75])"
      ]
     },
     "execution_count": 4,
     "metadata": {},
     "output_type": "execute_result"
    }
   ],
   "source": [
    "revenue = torch.tensor([100,120,90,75])\n",
    "revenue"
   ]
  },
  {
   "cell_type": "code",
   "execution_count": 6,
   "id": "cc5f3bd8",
   "metadata": {},
   "outputs": [
    {
     "data": {
      "text/plain": [
       "tensor(100)"
      ]
     },
     "execution_count": 6,
     "metadata": {},
     "output_type": "execute_result"
    }
   ],
   "source": [
    "revenue[0]"
   ]
  },
  {
   "cell_type": "code",
   "execution_count": 7,
   "id": "dd1264a1",
   "metadata": {},
   "outputs": [
    {
     "data": {
      "text/plain": [
       "tensor([100, 120,  90])"
      ]
     },
     "execution_count": 7,
     "metadata": {},
     "output_type": "execute_result"
    }
   ],
   "source": [
    "revenue[:3]"
   ]
  },
  {
   "cell_type": "code",
   "execution_count": 9,
   "id": "48f5638d",
   "metadata": {},
   "outputs": [],
   "source": [
    "# Sales data for Quater 1 (Matrix 1)\n",
    "# Rows represent different products, columns represent different regions\n",
    "\n",
    "q1 = torch.tensor([\n",
    "    [200,220,250], # Product A (iPhone)\n",
    "    [150, 180,210], # Product B (iPod)\n",
    "    [300, 330, 360] #Product C (MacBook)\n",
    "])\n",
    "\n",
    "q2 = torch.tensor([\n",
    "    [209, 231, 259], # Product A(iPhone)\n",
    "    [155, 192, 222], # Product B (iPad)\n",
    "    [310, 340, 375] # Product C (MacBook)\n",
    "])\n",
    "\n",
    "\n"
   ]
  },
  {
   "cell_type": "code",
   "execution_count": 10,
   "id": "c90ace48",
   "metadata": {},
   "outputs": [
    {
     "data": {
      "text/plain": [
       "tensor([[409, 451, 509],\n",
       "        [305, 372, 432],\n",
       "        [610, 670, 735]])"
      ]
     },
     "execution_count": 10,
     "metadata": {},
     "output_type": "execute_result"
    }
   ],
   "source": [
    "q1 + q2"
   ]
  },
  {
   "cell_type": "code",
   "execution_count": 11,
   "id": "0b83f1f2",
   "metadata": {},
   "outputs": [
    {
     "data": {
      "text/plain": [
       "tensor([[ 9, 11,  9],\n",
       "        [ 5, 12, 12],\n",
       "        [10, 10, 15]])"
      ]
     },
     "execution_count": 11,
     "metadata": {},
     "output_type": "execute_result"
    }
   ],
   "source": [
    "q2 -q1"
   ]
  },
  {
   "cell_type": "code",
   "execution_count": 12,
   "id": "50d1bd4e",
   "metadata": {},
   "outputs": [],
   "source": [
    "units = torch.tensor([\n",
    "    [200,220], # Product A (iPhone)\n",
    "    [150,180], # Product B (iPad)\n",
    "    [300,330] # Product C (MacBook)\n",
    "],dtype=float)"
   ]
  },
  {
   "cell_type": "code",
   "execution_count": 13,
   "id": "4c6e9c62",
   "metadata": {},
   "outputs": [
    {
     "data": {
      "text/plain": [
       "torch.Size([3, 2])"
      ]
     },
     "execution_count": 13,
     "metadata": {},
     "output_type": "execute_result"
    }
   ],
   "source": [
    "units.shape"
   ]
  },
  {
   "cell_type": "code",
   "execution_count": 14,
   "id": "8fc7a9d2",
   "metadata": {},
   "outputs": [
    {
     "data": {
      "text/plain": [
       "torch.float64"
      ]
     },
     "execution_count": 14,
     "metadata": {},
     "output_type": "execute_result"
    }
   ],
   "source": [
    "units.dtype"
   ]
  },
  {
   "cell_type": "code",
   "execution_count": 15,
   "id": "5f2a0312",
   "metadata": {},
   "outputs": [
    {
     "data": {
      "text/plain": [
       "tensor([200., 220., 150., 180., 300., 330.], dtype=torch.float64)"
      ]
     },
     "execution_count": 15,
     "metadata": {},
     "output_type": "execute_result"
    }
   ],
   "source": [
    "units.view(6)"
   ]
  },
  {
   "cell_type": "code",
   "execution_count": 17,
   "id": "14e37489",
   "metadata": {},
   "outputs": [
    {
     "data": {
      "text/plain": [
       "tensor([[200., 220., 150., 180., 300., 330.]], dtype=torch.float64)"
      ]
     },
     "execution_count": 17,
     "metadata": {},
     "output_type": "execute_result"
    }
   ],
   "source": [
    "units.view(1,6)"
   ]
  },
  {
   "cell_type": "code",
   "execution_count": 18,
   "id": "0bdc841a",
   "metadata": {},
   "outputs": [
    {
     "data": {
      "text/plain": [
       "tensor([[200., 220.],\n",
       "        [150., 180.],\n",
       "        [300., 330.]], dtype=torch.float64)"
      ]
     },
     "execution_count": 18,
     "metadata": {},
     "output_type": "execute_result"
    }
   ],
   "source": [
    "units"
   ]
  },
  {
   "cell_type": "code",
   "execution_count": 20,
   "id": "ec9dccb0",
   "metadata": {},
   "outputs": [
    {
     "data": {
      "text/plain": [
       "tensor(330., dtype=torch.float64)"
      ]
     },
     "execution_count": 20,
     "metadata": {},
     "output_type": "execute_result"
    }
   ],
   "source": [
    "units[2,1]"
   ]
  },
  {
   "cell_type": "code",
   "execution_count": 21,
   "id": "7bda5b07",
   "metadata": {},
   "outputs": [],
   "source": [
    "units[2,1] = 389"
   ]
  },
  {
   "cell_type": "code",
   "execution_count": 22,
   "id": "83dea99f",
   "metadata": {},
   "outputs": [
    {
     "data": {
      "text/plain": [
       "tensor([[200., 220.],\n",
       "        [150., 180.],\n",
       "        [300., 389.]], dtype=torch.float64)"
      ]
     },
     "execution_count": 22,
     "metadata": {},
     "output_type": "execute_result"
    }
   ],
   "source": [
    "units"
   ]
  },
  {
   "cell_type": "code",
   "execution_count": 23,
   "id": "a42cadbc",
   "metadata": {},
   "outputs": [
    {
     "data": {
      "text/plain": [
       "tensor(425., dtype=torch.float16, grad_fn=<AddBackward0>)"
      ]
     },
     "execution_count": 23,
     "metadata": {},
     "output_type": "execute_result"
    }
   ],
   "source": [
    "material_cost = torch.tensor(10,requires_grad=True,dtype=torch.float16)\n",
    "labor_cost = torch.tensor(5, requires_grad=True,dtype=torch.float16)\n",
    "total_cost = 3 * material_cost**2 + 5 * labor_cost + 100\n",
    "total_cost"
   ]
  },
  {
   "cell_type": "code",
   "execution_count": 24,
   "id": "77124036",
   "metadata": {},
   "outputs": [
    {
     "data": {
      "text/plain": [
       "(tensor(60., dtype=torch.float16), tensor(5., dtype=torch.float16))"
      ]
     },
     "execution_count": 24,
     "metadata": {},
     "output_type": "execute_result"
    }
   ],
   "source": [
    "total_cost.backward()\n",
    "material_cost.grad, labor_cost.grad"
   ]
  },
  {
   "cell_type": "code",
   "execution_count": 25,
   "id": "c423cbe3",
   "metadata": {},
   "outputs": [
    {
     "data": {
      "text/plain": [
       "tensor(8., dtype=torch.float16)"
      ]
     },
     "execution_count": 25,
     "metadata": {},
     "output_type": "execute_result"
    }
   ],
   "source": [
    "x = torch.tensor(4, requires_grad=True,dtype=torch.float16)\n",
    "y = x**2 +5\n",
    "\n",
    "y.backward()\n",
    "x.grad"
   ]
  },
  {
   "cell_type": "code",
   "execution_count": 30,
   "id": "b9255255",
   "metadata": {},
   "outputs": [
    {
     "data": {
      "text/plain": [
       "tensor([  9., 263.,  inf], dtype=torch.float16, grad_fn=<AddBackward0>)"
      ]
     },
     "execution_count": 30,
     "metadata": {},
     "output_type": "execute_result"
    }
   ],
   "source": [
    "a = torch.tensor([1,2,3],requires_grad=True,dtype=torch.float16)\n",
    "b = 2 ** a ** 3 + 7\n",
    "b"
   ]
  },
  {
   "cell_type": "code",
   "execution_count": 32,
   "id": "f06312b4",
   "metadata": {},
   "outputs": [
    {
     "data": {
      "text/plain": [
       "tensor([   4.1602, 2130.0000,       inf], dtype=torch.float16)"
      ]
     },
     "execution_count": 32,
     "metadata": {},
     "output_type": "execute_result"
    }
   ],
   "source": [
    "result = b.sum()\n",
    "result.backward()\n",
    "a.grad"
   ]
  },
  {
   "cell_type": "code",
   "execution_count": null,
   "id": "4b030acb",
   "metadata": {},
   "outputs": [],
   "source": []
  }
 ],
 "metadata": {
  "kernelspec": {
   "display_name": "venv",
   "language": "python",
   "name": "python3"
  },
  "language_info": {
   "codemirror_mode": {
    "name": "ipython",
    "version": 3
   },
   "file_extension": ".py",
   "mimetype": "text/x-python",
   "name": "python",
   "nbconvert_exporter": "python",
   "pygments_lexer": "ipython3",
   "version": "3.10.11"
  }
 },
 "nbformat": 4,
 "nbformat_minor": 5
}
